{
 "cells": [
  {
   "cell_type": "code",
   "execution_count": null,
   "id": "fd45c438",
   "metadata": {
    "scrolled": true
   },
   "outputs": [],
   "source": [
    "!pip install keras-retinanet==0.5 tensorflow-gpu==1.15.2 keras==2.3.1"
   ]
  },
  {
   "cell_type": "code",
   "execution_count": 22,
   "id": "c84e4da4",
   "metadata": {},
   "outputs": [],
   "source": [
    "import os\n",
    "import numpy as np"
   ]
  },
  {
   "cell_type": "code",
   "execution_count": 23,
   "id": "bd27d0fe",
   "metadata": {},
   "outputs": [],
   "source": [
    "import tensorflow as tf"
   ]
  },
  {
   "cell_type": "code",
   "execution_count": 24,
   "id": "e79498eb",
   "metadata": {
    "scrolled": true
   },
   "outputs": [],
   "source": [
    "from keras_retinanet import models\n",
    "from keras_retinanet.utils.image import (read_image_bgr, preprocess_image, resize_image)\n",
    "from keras_retinanet.utils.visualization import (draw_box, draw_caption)\n",
    "from keras_retinanet.utils.colors import label_color"
   ]
  },
  {
   "cell_type": "code",
   "execution_count": 25,
   "id": "cec479bb",
   "metadata": {},
   "outputs": [],
   "source": [
    "from PIL import Image"
   ]
  },
  {
   "cell_type": "code",
   "execution_count": 30,
   "id": "f58b744f",
   "metadata": {
    "scrolled": true
   },
   "outputs": [],
   "source": [
    "CAR_LABEL = {\n",
    "    0: 'car',\n",
    "    1: 'truck',\n",
    "    2: 'bus',\n",
    "}\n",
    "\n",
    "\n",
    "def _make_mask(height, width):\n",
    "    return np.ones((height, width), dtype=np.uint8)*255\n",
    "\n",
    "\n",
    "def _mask_car(img, box):\n",
    "    img[box[1]:box[3], box[0]:box[2]] = 0\n",
    "    return img\n",
    "\n",
    "\n",
    "def _detect_car(model_path, working_dir, images):\n",
    "    # load the model\n",
    "    model = models.load_model(model_path, backbone_name='resnet50')\n",
    "\n",
    "    # for the processing result\n",
    "    info = dict()\n",
    "\n",
    "    os.makedirs(os.path.join(working_dir, 'images'), exist_ok=True)\n",
    "    os.makedirs(os.path.join(working_dir, 'cars_detected'), exist_ok=True)\n",
    "    os.makedirs(os.path.join(working_dir, 'masks'), exist_ok=True)\n",
    "    \n",
    "    for filename in images:\n",
    "        info[filename] = dict()\n",
    "\n",
    "        image_path = os.path.join(working_dir, 'images', filename)\n",
    "        result_path = os.path.join(working_dir, 'cars_detected', filename)\n",
    "        mask_path = os.path.join(working_dir, 'masks', os.path.splitext(filename)[0] + '.png')\n",
    "\n",
    "        # Load images\n",
    "        im = read_image_bgr(image_path)\n",
    "\n",
    "        # Make masks\n",
    "        height, width = im.shape[0:2]\n",
    "        mask = _make_mask(height, width)\n",
    "        info[filename]['shape'] = (height, width)\n",
    "\n",
    "        # Prepare images to draw on (bgr -> rgb)\n",
    "        im_labeled = im[:, :, ::-1].copy()\n",
    "\n",
    "        # Preprocess images for network\n",
    "        im = preprocess_image(im)\n",
    "        im, scale = resize_image(im, min_side=2600, max_side=99999)\n",
    "\n",
    "        # Process images\n",
    "        boxes, scores, labels = model.predict_on_batch(\n",
    "            np.expand_dims(im, axis=0))\n",
    "\n",
    "        # Correct for image scales\n",
    "        boxes /= scale\n",
    "\n",
    "        box_list = []\n",
    "        for i, (box, score, label) in enumerate(zip(boxes[0], scores[0], labels[0])):\n",
    "            # Scores are sorted so we can break\n",
    "            if score < 0.5:\n",
    "                break\n",
    "\n",
    "            if label in CAR_LABEL:\n",
    "                box = box.astype(int)\n",
    "\n",
    "                color = label_color(label)\n",
    "                draw_box(im_labeled, box, color=color)\n",
    "                caption = \"{} {} {:.3f}\".format(i, CAR_LABEL[label], score)\n",
    "                draw_caption(im_labeled, box, caption)\n",
    "\n",
    "                mask = _mask_car(mask, box)\n",
    "\n",
    "                box_list.append(box.tolist())\n",
    "\n",
    "        # Save images\n",
    "        im = Image.fromarray(im_labeled)\n",
    "        im.save(result_path)\n",
    "        im = Image.fromarray(mask)\n",
    "        im.save(mask_path)\n",
    "\n",
    "        info[filename]['boxes'] = box_list\n",
    "\n",
    "    return info"
   ]
  },
  {
   "cell_type": "code",
   "execution_count": 31,
   "id": "d3e15bd9",
   "metadata": {},
   "outputs": [
    {
     "name": "stdout",
     "output_type": "stream",
     "text": [
      "tracking <tf.Variable 'Variable_35:0' shape=(9, 4) dtype=float32> anchors\n",
      "tracking <tf.Variable 'Variable_36:0' shape=(9, 4) dtype=float32> anchors\n",
      "tracking <tf.Variable 'Variable_37:0' shape=(9, 4) dtype=float32> anchors\n",
      "tracking <tf.Variable 'Variable_38:0' shape=(9, 4) dtype=float32> anchors\n",
      "tracking <tf.Variable 'Variable_39:0' shape=(9, 4) dtype=float32> anchors\n"
     ]
    }
   ],
   "source": [
    "import os\n",
    "\n",
    "info = _detect_car(r'resnet50_model.h5', r'Test', os.listdir(os.path.join(r'Test', r'images')))"
   ]
  },
  {
   "cell_type": "code",
   "execution_count": 32,
   "id": "98de2f5a",
   "metadata": {},
   "outputs": [
    {
     "data": {
      "text/plain": [
       "{'1.jpg': {'shape': (449, 800), 'boxes': [[149, 138, 247, 189]]},\n",
       " '2.jpg': {'shape': (956, 1300),\n",
       "  'boxes': [[742, 229, 805, 279],\n",
       "   [727, 335, 793, 370],\n",
       "   [668, 281, 734, 330],\n",
       "   [1022, 519, 1097, 568],\n",
       "   [623, 499, 696, 528],\n",
       "   [644, 557, 720, 587],\n",
       "   [1024, 542, 1094, 567],\n",
       "   [1024, 542, 1094, 567]]}}"
      ]
     },
     "execution_count": 32,
     "metadata": {},
     "output_type": "execute_result"
    }
   ],
   "source": [
    "info"
   ]
  }
 ],
 "metadata": {
  "kernelspec": {
   "display_name": "Python 3 (ipykernel)",
   "language": "python",
   "name": "python3"
  },
  "language_info": {
   "codemirror_mode": {
    "name": "ipython",
    "version": 3
   },
   "file_extension": ".py",
   "mimetype": "text/x-python",
   "name": "python",
   "nbconvert_exporter": "python",
   "pygments_lexer": "ipython3",
   "version": "3.7.9"
  }
 },
 "nbformat": 4,
 "nbformat_minor": 5
}
